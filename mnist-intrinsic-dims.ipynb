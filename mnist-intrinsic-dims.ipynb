{
 "cells": [
  {
   "cell_type": "markdown",
   "id": "61a12d68-0172-44f2-ad87-8f206fc15572",
   "metadata": {},
   "source": [
    "# Intrinsic dims of MNIST - Dense and CNN"
   ]
  },
  {
   "cell_type": "markdown",
   "id": "d3f99ee2-fcca-46f2-868a-677cadfe3388",
   "metadata": {},
   "source": [
    "Dense and CNN MNISTs with results"
   ]
  },
  {
   "cell_type": "code",
   "execution_count": 1,
   "id": "aa88be4c-df21-406d-bd8e-7df39a245ab7",
   "metadata": {
    "tags": []
   },
   "outputs": [],
   "source": [
    "import torch\n",
    "import torch.nn as nn\n",
    "import torch.nn.functional as F\n",
    "from torch.nn.parameter import Parameter\n",
    "from timeit import default_timer as timer\n",
    "from tqdm import trange\n",
    "from data import load_mnist\n",
    "from net import SubspaceConv2d, SubspaceLinear"
   ]
  },
  {
   "cell_type": "code",
   "execution_count": 2,
   "id": "371837f7-472b-41f6-810a-271c03fa4757",
   "metadata": {},
   "outputs": [],
   "source": [
    "import matplotlib.pyplot as plt\n",
    "%matplotlib inline\n",
    "import pandas as pd\n",
    "import seaborn as sns"
   ]
  },
  {
   "cell_type": "markdown",
   "id": "f0b74667-1da4-4766-bc9e-a3d15efb4555",
   "metadata": {
    "tags": []
   },
   "source": [
    "## Data"
   ]
  },
  {
   "cell_type": "code",
   "execution_count": 3,
   "id": "17f5a7f7-4ea5-4fcf-a30b-bb4f615fe936",
   "metadata": {},
   "outputs": [],
   "source": [
    "train_loader, test_loader = load_mnist()"
   ]
  },
  {
   "cell_type": "markdown",
   "id": "bbd9cdb9-fe19-4a9d-96ea-7c8cbbfcab79",
   "metadata": {},
   "source": [
    "## Util functions"
   ]
  },
  {
   "cell_type": "code",
   "execution_count": 4,
   "id": "928b06f5-d8f3-47c3-9400-8cbca6966489",
   "metadata": {},
   "outputs": [],
   "source": [
    "def train(net, num_epochs, train_loader, device=\"cuda\"):\n",
    "    opt = torch.optim.Adam(net.parameters(), lr=1e-3)\n",
    "    net.train()\n",
    "    loss_history = []\n",
    "    acc_history = []\n",
    "    \n",
    "    # Single progress bar over all epochs\n",
    "    pbar = trange(\n",
    "        len(train_loader) * num_epochs, \n",
    "        bar_format='{l_bar}{bar:10}{r_bar}{bar:-10b}',\n",
    "        ascii=True\n",
    "    )\n",
    "\n",
    "    for _ in range(num_epochs):\n",
    "        for batch_id, (features, target) in enumerate(train_loader):\n",
    "            # forward pass, calculate loss and backprop!\n",
    "            opt.zero_grad()\n",
    "            preds = net(features.to(device))\n",
    "            loss = F.nll_loss(preds, target.to(device))\n",
    "            loss.backward()\n",
    "            loss_history.append(loss.item())\n",
    "            opt.step()\n",
    "\n",
    "            pbar.update()\n",
    "\n",
    "    # Verified don't need to return the net\n",
    "    return loss_history, acc_history"
   ]
  },
  {
   "cell_type": "code",
   "execution_count": 5,
   "id": "8bb89640-0d6c-416d-86d7-885a5da10a4e",
   "metadata": {},
   "outputs": [],
   "source": [
    "def eval(net, test_loader, device=\"cuda\"):\n",
    "    net.eval()\n",
    "    test_loss = 0\n",
    "    correct = 0\n",
    "\n",
    "    for features, target in test_loader:\n",
    "        output = net(features.to(device))\n",
    "        test_loss += F.nll_loss(output, target.to(device)).item()\n",
    "        pred = torch.argmax(output, dim=-1)  # get the index of the max log-probability\n",
    "        correct += pred.eq(target.to(device)).cpu().sum()\n",
    "\n",
    "    test_loss = test_loss\n",
    "    test_loss /= len(test_loader)  # loss function already averages over batch size\n",
    "    accuracy = 100.0 * correct / len(test_loader.dataset)\n",
    "    acc_history.append(accuracy)\n",
    "    print(\n",
    "        \"Test set: Average loss: {:.4f}, Accuracy: {}/{} ({:.0f}%)\\n\".format(\n",
    "            test_loss, correct, len(test_loader.dataset), accuracy\n",
    "        )\n",
    "    )\n",
    "\n",
    "    return test_loss, correct.item()"
   ]
  },
  {
   "cell_type": "code",
   "execution_count": 6,
   "id": "0e3b5653-b422-401e-aad1-256d2f93215f",
   "metadata": {},
   "outputs": [],
   "source": [
    "class SubspaceConstrainedMNIST(nn.Module):\n",
    "    def __init__(self, intrinsic_dim: int, device=\"cpu\"):\n",
    "        \"\"\"\n",
    "        Paper uses 784-200-200-10\n",
    "        ref: https://arxiv.org/pdf/1804.08838.pdf\n",
    "\n",
    "        Ref in github:\n",
    "        https://github.com/uber-research/intrinsic-dimension/blob/9754ebe1954e82973c7afe280d2c59850f281dca/intrinsic_dim/model_builders.py#L81\n",
    "        \"\"\"\n",
    "        super().__init__()\n",
    "        self.theta = Parameter(torch.empty((intrinsic_dim, 1), device=device))\n",
    "        self.theta.data.fill_(0)\n",
    "\n",
    "        self.hidden1 = SubspaceLinear(\n",
    "            theta=self.theta,\n",
    "            in_features=784,\n",
    "            out_features=200,\n",
    "            device=device,\n",
    "        )\n",
    "        self.hidden2 = SubspaceLinear(\n",
    "            theta=self.theta,\n",
    "            in_features=200,\n",
    "            out_features=10,\n",
    "            device=device,\n",
    "        )\n",
    "\n",
    "    def forward(self, x):\n",
    "        x = self.hidden1(x)\n",
    "        x = F.relu(x)\n",
    "        x = self.hidden2(x)\n",
    "        x = F.relu(x)\n",
    "        x = F.log_softmax(x, dim=-1)  # (batch_size, dims)\n",
    "        return x"
   ]
  },
  {
   "cell_type": "code",
   "execution_count": 7,
   "id": "8ec50067-cbdb-426a-96f7-7dd7fe18907b",
   "metadata": {},
   "outputs": [],
   "source": [
    "class SubspaceConstrainedLeNet(nn.Module):\n",
    "    def __init__(self, intrinsic_dim: int):\n",
    "        \"\"\"\n",
    "        Subspace constrained version of PyImageSearch's LeNet implementation\n",
    "        \"\"\"\n",
    "        super().__init__()\n",
    "        self.theta = Parameter(torch.empty((intrinsic_dim, 1)))\n",
    "        self.theta.data.fill_(0)\n",
    "        \n",
    "        self.conv1 = SubspaceConv2d(self.theta, in_channels=1, out_channels=20, kernel_size=(5, 5), stride=1)\n",
    "        self.relu1 = nn.ReLU()\n",
    "        self.maxpool1 = nn.MaxPool2d(kernel_size=(2, 2), stride=(2, 2))\n",
    "        \n",
    "        self.conv2 = SubspaceConv2d(self.theta, in_channels=20, out_channels=50, kernel_size=(5, 5), stride=1)\n",
    "        self.relu2 = nn.ReLU()\n",
    "        self.maxpool2 = nn.MaxPool2d(kernel_size=(2, 2), stride=(2, 2))\n",
    "        \n",
    "        self.flatten1 = nn.Flatten()\n",
    "        \n",
    "        self.fc1 = SubspaceLinear(self.theta, in_features=800, out_features=500)\n",
    "        self.relu3 = nn.ReLU()\n",
    "        \n",
    "        self.fc2 = SubspaceLinear(self.theta, in_features=500, out_features=10)\n",
    "        self.logsoftmax = nn.LogSoftmax(dim=1)\n",
    "        \n",
    "        \n",
    "    def forward(self, x):\n",
    "        x = self.conv1(x)\n",
    "        x = self.relu1(x)\n",
    "        x = self.maxpool1(x)\n",
    "        \n",
    "        x = self.conv2(x)\n",
    "        x = self.relu2(x)\n",
    "        x = self.maxpool2(x)\n",
    "        \n",
    "        x = self.flatten1(x)\n",
    "        x = self.fc1(x)\n",
    "        x = self.relu3(x)\n",
    "        x = self.fc2(x)\n",
    "        x = self.logsoftmax(x)\n",
    "        \n",
    "        return x"
   ]
  },
  {
   "cell_type": "markdown",
   "id": "3c2861fa-e696-4b03-ad9f-ef61be7d914f",
   "metadata": {},
   "source": [
    "## Config"
   ]
  },
  {
   "cell_type": "code",
   "execution_count": 8,
   "id": "66e64045-8e6a-4607-b775-ccc102973fa7",
   "metadata": {},
   "outputs": [],
   "source": [
    "dims = [\n",
    "    10, 30, 50, \n",
    "    # 100, 300, 500, \n",
    "    # 1000, 3000, 5000\n",
    "]\n",
    "\n",
    "num_reps = 5 # 10\n",
    "device = \"cuda\" # \"cpu\"\n",
    "training_epochs = 20"
   ]
  },
  {
   "cell_type": "markdown",
   "id": "deec7f45-1680-4795-9e32-9f85695f0260",
   "metadata": {
    "tags": []
   },
   "source": [
    "## Dense"
   ]
  },
  {
   "cell_type": "code",
   "execution_count": 9,
   "id": "fff068cc-eb94-4624-ac9a-cf308dc06d71",
   "metadata": {},
   "outputs": [],
   "source": [
    "dense_corrects = {}"
   ]
  },
  {
   "cell_type": "code",
   "execution_count": null,
   "id": "bbb6ba4f-6af0-477a-bfcd-38ffb1256f83",
   "metadata": {},
   "outputs": [
    {
     "name": "stdout",
     "output_type": "stream",
     "text": [
      "Training 5 repetitions for intrinsic dimension: 10\n"
     ]
    },
    {
     "name": "stderr",
     "output_type": "stream",
     "text": [
      "100%|##########| 12000/12000 [01:47<00:00, 111.90it/s]                                                                  \n"
     ]
    },
    {
     "name": "stdout",
     "output_type": "stream",
     "text": [
      "Test set: Average loss: 2.2727, Accuracy: 1816/10000 (18%)\n",
      "\n"
     ]
    },
    {
     "name": "stderr",
     "output_type": "stream",
     "text": [
      "100%|##########| 12000/12000 [01:50<00:00, 109.01it/s]                                                                  \n"
     ]
    },
    {
     "name": "stdout",
     "output_type": "stream",
     "text": [
      "Test set: Average loss: 2.2762, Accuracy: 1579/10000 (16%)\n",
      "\n"
     ]
    },
    {
     "name": "stderr",
     "output_type": "stream",
     "text": [
      "  8%|7         | 919/12000 [00:08<01:58, 93.70it/s]                                                                     "
     ]
    }
   ],
   "source": [
    "for count, d in enumerate(dims):\n",
    "    start_ts = timer()\n",
    "    print(f\"Training {num_reps} repetitions for intrinsic dimension: {d}\")\n",
    "\n",
    "    corrects_per_dim = {}\n",
    "\n",
    "    for i in range(num_reps):\n",
    "        # Use cpu since at this size, GPU with overhead is slower than using CPU directly\n",
    "        ssnet = SubspaceConstrainedMNIST(intrinsic_dim=d, device=device)\n",
    "        \n",
    "        loss_history, acc_history = train(ssnet, 20, train_loader, device=device)\n",
    "        test_loss, correct = eval(ssnet, test_loader, device=device)\n",
    "\n",
    "        corrects_per_dim[i] = correct / 10000 * 100\n",
    "\n",
    "    # if save_output is True:\n",
    "    #     dim_scores = pd.Series(corrects_per_dim)\n",
    "    #     dim_scores.to_csv(f\"output/corrects-{d:05}.csv\")\n",
    "        \n",
    "    dense_corrects[d] = corrects_per_dim\n",
    "\n",
    "    end_ts = timer()\n",
    "    print(f\"Time taken for dim {d}: {end_ts - start_ts:.2f}s. Remaining dims: {dims[count+1:]}!\")"
   ]
  },
  {
   "cell_type": "code",
   "execution_count": null,
   "id": "47229580-4246-4f81-a0a7-9687adc7b55f",
   "metadata": {},
   "outputs": [],
   "source": [
    "df = pd.DataFrame(dense_corrects)\n",
    "df.to_csv(\"dense-mnist-accuracy.csv\")"
   ]
  },
  {
   "cell_type": "code",
   "execution_count": null,
   "id": "632d30ad-0de5-4773-b5a1-1efad9d8a0ea",
   "metadata": {},
   "outputs": [],
   "source": [
    "tidydf = df.melt()\n",
    "tidydf = tidydf.rename(columns={\"variable\": \"num_id\", \"value\": \"acc\"})"
   ]
  },
  {
   "cell_type": "code",
   "execution_count": null,
   "id": "3d370ff7-503d-4451-83f1-9c20e4eb49c4",
   "metadata": {},
   "outputs": [],
   "source": [
    "plt.figure(figsize=(14, 6))\n",
    "sns.boxplot(data=tidydf, x=\"num_id\", y=\"acc\")\n",
    "plt.xlabel(\"Intrinsic dimension\")\n",
    "plt.ylabel(\"Accuracy\")\n",
    "plt.title(\"Accuracy by constrained intrinsic dimension, fc MNIST\")\n",
    "plt.show()"
   ]
  },
  {
   "cell_type": "markdown",
   "id": "23deb264-7858-43d3-8cb7-597534ec1022",
   "metadata": {},
   "source": [
    "## Conv"
   ]
  },
  {
   "cell_type": "code",
   "execution_count": null,
   "id": "bc9ac510-9714-4289-8a23-c8bc5087c4e5",
   "metadata": {},
   "outputs": [],
   "source": [
    "conv_corrects = {}"
   ]
  },
  {
   "cell_type": "code",
   "execution_count": null,
   "id": "4ef69045-264c-4744-b2db-41a2089cb4cc",
   "metadata": {},
   "outputs": [],
   "source": [
    "for count, d in enumerate(dims):\n",
    "    start_ts = timer()\n",
    "    print(f\"Training {num_reps} repetitions for intrinsic dimension: {d}\")\n",
    "\n",
    "    corrects_per_dim = {}\n",
    "\n",
    "    for i in range(num_reps):\n",
    "        # Use cpu since at this size, GPU with overhead is slower than using CPU directly\n",
    "        ssnet = SubspaceConstrainedLeNet(intrinsic_dim=d, device=device)\n",
    "        \n",
    "        loss_history, acc_history = train(ssnet, 20, train_loader, device=device)\n",
    "        test_loss, correct = eval(ssnet, test_loader, device=device)\n",
    "\n",
    "        corrects_per_dim[i] = correct / 10000 * 100\n",
    "        \n",
    "    dcnn_corrects[d] = corrects_per_dim\n",
    "\n",
    "    end_ts = timer()\n",
    "    print(f\"Time taken for dim {d}: {end_ts - start_ts:.2f}s. Remaining dims: {dims[count+1:]}!\")"
   ]
  },
  {
   "cell_type": "code",
   "execution_count": null,
   "id": "389a18b0-77ec-4321-951c-05d78138b316",
   "metadata": {},
   "outputs": [],
   "source": [
    "df = pd.DataFrame(conv_corrects)\n",
    "df.to_csv(\"conv-mnist-accuracy.csv\")"
   ]
  },
  {
   "cell_type": "code",
   "execution_count": null,
   "id": "d02a721d-35cf-4ab8-9fde-424645b7e8df",
   "metadata": {},
   "outputs": [],
   "source": [
    "tidydf = df.melt()\n",
    "tidydf = tidydf.rename(columns={\"variable\": \"num_id\", \"value\": \"acc\"})"
   ]
  },
  {
   "cell_type": "code",
   "execution_count": null,
   "id": "d183ce73-7022-47c2-8937-33be9c8f84d7",
   "metadata": {},
   "outputs": [],
   "source": [
    "plt.figure(figsize=(14, 6))\n",
    "sns.boxplot(data=tidydf, x=\"num_id\", y=\"acc\")\n",
    "plt.xlabel(\"Intrinsic dimension\")\n",
    "plt.ylabel(\"Accuracy\")\n",
    "plt.title(\"Accuracy by constrained intrinsic dimension, conv MNIST\")\n",
    "plt.show()"
   ]
  }
 ],
 "metadata": {
  "kernelspec": {
   "display_name": "Python [conda env:dolphin]",
   "language": "python",
   "name": "conda-env-dolphin-py"
  },
  "language_info": {
   "codemirror_mode": {
    "name": "ipython",
    "version": 3
   },
   "file_extension": ".py",
   "mimetype": "text/x-python",
   "name": "python",
   "nbconvert_exporter": "python",
   "pygments_lexer": "ipython3",
   "version": "3.8.12"
  }
 },
 "nbformat": 4,
 "nbformat_minor": 5
}
