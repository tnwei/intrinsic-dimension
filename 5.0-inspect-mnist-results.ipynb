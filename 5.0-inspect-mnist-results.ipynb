{
 "cells": [
  {
   "cell_type": "code",
   "execution_count": 2,
   "id": "42c23052-827d-4ca2-a345-083c72498e0e",
   "metadata": {},
   "outputs": [],
   "source": [
    "import pandas as pd\n",
    "from pathlib import Path\n",
    "import matplotlib.pyplot as plt\n",
    "import seaborn as sns\n",
    "%matplotlib inline"
   ]
  },
  {
   "cell_type": "code",
   "execution_count": 3,
   "id": "54c97657-13b2-461b-82da-b8460124f072",
   "metadata": {},
   "outputs": [],
   "source": [
    "savedir = Path(\"output\")"
   ]
  },
  {
   "cell_type": "code",
   "execution_count": 4,
   "id": "301203db-cf32-437d-a03f-b04cbd66b5a0",
   "metadata": {},
   "outputs": [],
   "source": [
    "srses = {}\n",
    "for i in savedir.glob(\"*.csv\"):\n",
    "    num_ids = int(i.stem.split(\"-\")[1])\n",
    "    srses[num_ids] = pd.read_csv(i, index_col=0, squeeze=True)"
   ]
  },
  {
   "cell_type": "code",
   "execution_count": 5,
   "id": "765033bd-d748-4fa2-b2fb-01b67546ec7f",
   "metadata": {},
   "outputs": [],
   "source": [
    "df = pd.DataFrame(srses)"
   ]
  },
  {
   "cell_type": "code",
   "execution_count": 6,
   "id": "19853c57-69c7-49ee-8995-8deef104e2fd",
   "metadata": {},
   "outputs": [],
   "source": [
    "srs = df.mean(axis=\"rows\")"
   ]
  },
  {
   "cell_type": "code",
   "execution_count": 7,
   "id": "766ad70d-0d5c-42a3-9c7c-515735844e5d",
   "metadata": {},
   "outputs": [],
   "source": [
    "srs = srs.sort_index()"
   ]
  },
  {
   "cell_type": "code",
   "execution_count": 8,
   "id": "3fd654f0-06ef-4c11-b6ce-ea8b2982ea0c",
   "metadata": {},
   "outputs": [
    {
     "data": {
      "text/plain": [
       "[<matplotlib.lines.Line2D at 0x7f88cbf1e370>]"
      ]
     },
     "execution_count": 8,
     "metadata": {},
     "output_type": "execute_result"
    },
    {
     "data": {
      "image/png": "[encoded data removed]",
      "text/plain": [
       "<Figure size 1008x432 with 1 Axes>"
      ]
     },
     "metadata": {
      "needs_background": "light"
     },
     "output_type": "display_data"
    }
   ],
   "source": [
    "plt.figure(figsize=(14, 6))\n",
    "plt.plot(srs, marker=\"x\")"
   ]
  },
  {
   "cell_type": "markdown",
   "id": "c2cabe3e-61a7-4268-bd1e-b91a486f2979",
   "metadata": {},
   "source": [
    "Need to see error bars to get a better picture."
   ]
  },
  {
   "cell_type": "code",
   "execution_count": 9,
   "id": "6ae9f701-84be-417e-9133-a48dbcc9294e",
   "metadata": {},
   "outputs": [
    {
     "data": {
      "text/html": [
       "<div>\n",
       "<style scoped>\n",
       "    .dataframe tbody tr th:only-of-type {\n",
       "        vertical-align: middle;\n",
       "    }\n",
       "\n",
       "    .dataframe tbody tr th {\n",
       "        vertical-align: top;\n",
       "    }\n",
       "\n",
       "    .dataframe thead th {\n",
       "        text-align: right;\n",
       "    }\n",
       "</style>\n",
       "<table border=\"1\" class=\"dataframe\">\n",
       "  <thead>\n",
       "    <tr style=\"text-align: right;\">\n",
       "      <th></th>\n",
       "      <th>400</th>\n",
       "      <th>10000</th>\n",
       "      <th>10</th>\n",
       "      <th>4000</th>\n",
       "      <th>2000</th>\n",
       "      <th>3000</th>\n",
       "      <th>600</th>\n",
       "      <th>300</th>\n",
       "      <th>500</th>\n",
       "      <th>50</th>\n",
       "      <th>1000</th>\n",
       "      <th>100</th>\n",
       "      <th>5000</th>\n",
       "      <th>800</th>\n",
       "      <th>700</th>\n",
       "      <th>1500</th>\n",
       "      <th>750</th>\n",
       "      <th>200</th>\n",
       "    </tr>\n",
       "  </thead>\n",
       "  <tbody>\n",
       "    <tr>\n",
       "      <th>0</th>\n",
       "      <td>48.06</td>\n",
       "      <td>37.10</td>\n",
       "      <td>16.69</td>\n",
       "      <td>74.29</td>\n",
       "      <td>53.14</td>\n",
       "      <td>62.88</td>\n",
       "      <td>54.61</td>\n",
       "      <td>46.96</td>\n",
       "      <td>70.55</td>\n",
       "      <td>40.17</td>\n",
       "      <td>73.41</td>\n",
       "      <td>46.23</td>\n",
       "      <td>47.17</td>\n",
       "      <td>71.74</td>\n",
       "      <td>57.32</td>\n",
       "      <td>70.85</td>\n",
       "      <td>60.37</td>\n",
       "      <td>55.11</td>\n",
       "    </tr>\n",
       "    <tr>\n",
       "      <th>1</th>\n",
       "      <td>66.64</td>\n",
       "      <td>53.20</td>\n",
       "      <td>16.14</td>\n",
       "      <td>75.20</td>\n",
       "      <td>59.52</td>\n",
       "      <td>64.59</td>\n",
       "      <td>76.26</td>\n",
       "      <td>55.62</td>\n",
       "      <td>71.01</td>\n",
       "      <td>36.05</td>\n",
       "      <td>64.70</td>\n",
       "      <td>48.40</td>\n",
       "      <td>63.49</td>\n",
       "      <td>59.18</td>\n",
       "      <td>58.64</td>\n",
       "      <td>68.35</td>\n",
       "      <td>61.60</td>\n",
       "      <td>56.46</td>\n",
       "    </tr>\n",
       "    <tr>\n",
       "      <th>2</th>\n",
       "      <td>51.66</td>\n",
       "      <td>70.76</td>\n",
       "      <td>18.70</td>\n",
       "      <td>72.03</td>\n",
       "      <td>78.35</td>\n",
       "      <td>53.79</td>\n",
       "      <td>74.19</td>\n",
       "      <td>57.38</td>\n",
       "      <td>49.15</td>\n",
       "      <td>32.77</td>\n",
       "      <td>55.81</td>\n",
       "      <td>46.68</td>\n",
       "      <td>57.07</td>\n",
       "      <td>49.55</td>\n",
       "      <td>62.00</td>\n",
       "      <td>75.42</td>\n",
       "      <td>69.88</td>\n",
       "      <td>53.09</td>\n",
       "    </tr>\n",
       "    <tr>\n",
       "      <th>3</th>\n",
       "      <td>50.74</td>\n",
       "      <td>74.30</td>\n",
       "      <td>20.64</td>\n",
       "      <td>48.67</td>\n",
       "      <td>46.93</td>\n",
       "      <td>71.70</td>\n",
       "      <td>72.13</td>\n",
       "      <td>59.64</td>\n",
       "      <td>53.98</td>\n",
       "      <td>27.30</td>\n",
       "      <td>79.70</td>\n",
       "      <td>38.83</td>\n",
       "      <td>77.22</td>\n",
       "      <td>61.59</td>\n",
       "      <td>48.49</td>\n",
       "      <td>71.77</td>\n",
       "      <td>70.22</td>\n",
       "      <td>50.04</td>\n",
       "    </tr>\n",
       "    <tr>\n",
       "      <th>4</th>\n",
       "      <td>47.31</td>\n",
       "      <td>45.34</td>\n",
       "      <td>20.14</td>\n",
       "      <td>35.87</td>\n",
       "      <td>70.09</td>\n",
       "      <td>70.62</td>\n",
       "      <td>52.45</td>\n",
       "      <td>62.18</td>\n",
       "      <td>58.01</td>\n",
       "      <td>40.69</td>\n",
       "      <td>67.61</td>\n",
       "      <td>39.86</td>\n",
       "      <td>87.67</td>\n",
       "      <td>79.06</td>\n",
       "      <td>64.56</td>\n",
       "      <td>73.09</td>\n",
       "      <td>68.39</td>\n",
       "      <td>55.37</td>\n",
       "    </tr>\n",
       "  </tbody>\n",
       "</table>\n",
       "</div>"
      ],
      "text/plain": [
       "   400    10000  10     4000   2000   3000   600    300    500    50     \\\n",
       "0  48.06  37.10  16.69  74.29  53.14  62.88  54.61  46.96  70.55  40.17   \n",
       "1  66.64  53.20  16.14  75.20  59.52  64.59  76.26  55.62  71.01  36.05   \n",
       "2  51.66  70.76  18.70  72.03  78.35  53.79  74.19  57.38  49.15  32.77   \n",
       "3  50.74  74.30  20.64  48.67  46.93  71.70  72.13  59.64  53.98  27.30   \n",
       "4  47.31  45.34  20.14  35.87  70.09  70.62  52.45  62.18  58.01  40.69   \n",
       "\n",
       "   1000   100    5000   800    700    1500   750    200    \n",
       "0  73.41  46.23  47.17  71.74  57.32  70.85  60.37  55.11  \n",
       "1  64.70  48.40  63.49  59.18  58.64  68.35  61.60  56.46  \n",
       "2  55.81  46.68  57.07  49.55  62.00  75.42  69.88  53.09  \n",
       "3  79.70  38.83  77.22  61.59  48.49  71.77  70.22  50.04  \n",
       "4  67.61  39.86  87.67  79.06  64.56  73.09  68.39  55.37  "
      ]
     },
     "execution_count": 9,
     "metadata": {},
     "output_type": "execute_result"
    }
   ],
   "source": [
    "# Reshape into a tidy df\n",
    "df.head()"
   ]
  },
  {
   "cell_type": "code",
   "execution_count": 10,
   "id": "d56a5a46-9f25-48e1-8861-c783e87d079c",
   "metadata": {},
   "outputs": [],
   "source": [
    "tidydf = df.melt()\n",
    "tidydf = tidydf.rename(columns={\"variable\": \"num_id\", \"value\": \"acc\"})"
   ]
  },
  {
   "cell_type": "code",
   "execution_count": 13,
   "id": "fd64bc34-4bb3-4e52-b637-5efc6b4c277a",
   "metadata": {},
   "outputs": [
    {
     "data": {
      "image/png": "[encoded data removed]",
      "text/plain": [
       "<Figure size 1008x432 with 1 Axes>"
      ]
     },
     "metadata": {
      "needs_background": "light"
     },
     "output_type": "display_data"
    }
   ],
   "source": [
    "plt.figure(figsize=(14, 6))\n",
    "sns.boxplot(data=tidydf, x=\"num_id\", y=\"acc\")\n",
    "plt.xlabel(\"Intrinsic dimension\")\n",
    "plt.ylabel(\"Accuracy\")\n",
    "plt.title(\"Accuracy by constrained intrinsic dimension, fc MNIST\")\n",
    "plt.show()"
   ]
  },
  {
   "cell_type": "markdown",
   "id": "b6106a39-2b29-40b4-bc8e-8d3bebb70b0f",
   "metadata": {},
   "source": [
    "This image looks pretty similar to what I had before hmm. It is what it is I guess. Next is the Conv2D version."
   ]
  }
 ],
 "metadata": {
  "kernelspec": {
   "display_name": "Python [conda env:ml]",
   "language": "python",
   "name": "conda-env-ml-py"
  },
  "language_info": {
   "codemirror_mode": {
    "name": "ipython",
    "version": 3
   },
   "file_extension": ".py",
   "mimetype": "text/x-python",
   "name": "python",
   "nbconvert_exporter": "python",
   "pygments_lexer": "ipython3",
   "version": "3.9.9"
  }
 },
 "nbformat": 4,
 "nbformat_minor": 5
}
