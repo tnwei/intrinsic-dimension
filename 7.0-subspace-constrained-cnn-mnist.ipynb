{
 "cells": [
  {
   "cell_type": "markdown",
   "id": "61a12d68-0172-44f2-ad87-8f206fc15572",
   "metadata": {},
   "source": [
    "# Subspace constrained CNN MNIST"
   ]
  },
  {
   "cell_type": "code",
   "execution_count": 1,
   "id": "6104ed0a-4462-42ef-b02f-7c4249e4377d",
   "metadata": {},
   "outputs": [],
   "source": [
    "import torch\n",
    "import torch.nn as nn\n",
    "import torch.nn.functional as F\n",
    "import torchvision\n",
    "from torch.utils.data import DataLoader"
   ]
  },
  {
   "cell_type": "markdown",
   "id": "347ad6d4-04a6-40a4-aaf9-9bd6ea747256",
   "metadata": {
    "tags": []
   },
   "source": [
    "## Data"
   ]
  },
  {
   "cell_type": "code",
   "execution_count": 2,
   "id": "aa0fa5c3-589b-4e49-8ff1-3af06c74ab9b",
   "metadata": {},
   "outputs": [],
   "source": [
    "dataset_transform = torchvision.transforms.Compose([\n",
    "    torchvision.transforms.ToTensor(), \n",
    "    # torchvision.transforms.Lambda(lambda x: torch.flatten(x))\n",
    "])"
   ]
  },
  {
   "cell_type": "code",
   "execution_count": 3,
   "id": "bffac591-732e-47f3-862d-37823ab93294",
   "metadata": {},
   "outputs": [],
   "source": [
    "train = torchvision.datasets.MNIST(\n",
    "    root=\"~/.torchdata/\", download=False, \n",
    "    # natively stored as PIL images\n",
    "    transform=dataset_transform\n",
    ")"
   ]
  },
  {
   "cell_type": "code",
   "execution_count": 4,
   "id": "de3256fe-f974-4613-9188-2957b501443f",
   "metadata": {},
   "outputs": [],
   "source": [
    "test = torchvision.datasets.MNIST(\n",
    "    root=\"~/.torchdata/\", download=False, \n",
    "    train=False,\n",
    "    transform=dataset_transform\n",
    ")"
   ]
  },
  {
   "cell_type": "code",
   "execution_count": 5,
   "id": "af8de4cf-bd13-4aa2-bec5-a0d52c559e8f",
   "metadata": {},
   "outputs": [],
   "source": [
    "train_loader = DataLoader(train, batch_size=100, shuffle=True)\n",
    "# Returns (torch.Size([100, 1, 28, 28]), torch.Size([100]))"
   ]
  },
  {
   "cell_type": "code",
   "execution_count": 6,
   "id": "5431e35c-cc76-4277-8dd6-59ff28c1f302",
   "metadata": {},
   "outputs": [],
   "source": [
    "test_loader = DataLoader(test, batch_size=500, shuffle=False)"
   ]
  },
  {
   "cell_type": "markdown",
   "id": "a848971a-7a45-47a7-9139-3a84489238c3",
   "metadata": {},
   "source": [
    "## Net definition"
   ]
  },
  {
   "cell_type": "code",
   "execution_count": 7,
   "id": "b2c8c754-f8c2-4a2a-bfe9-67bf853ecea9",
   "metadata": {},
   "outputs": [],
   "source": [
    "from net import SubspaceConv2d, SubspaceLinear\n",
    "from torch.nn.parameter import Parameter"
   ]
  },
  {
   "cell_type": "code",
   "execution_count": 8,
   "id": "eb776d7b-0449-4924-b7e1-8a8db3eabf49",
   "metadata": {},
   "outputs": [],
   "source": [
    "intrinsic_dim = 100"
   ]
  },
  {
   "cell_type": "code",
   "execution_count": 9,
   "id": "1bacb6f4-14cd-4e80-8df6-151749e9f330",
   "metadata": {},
   "outputs": [],
   "source": [
    "class SubspaceConstrainedLeNet(nn.Module):\n",
    "    def __init__(self):\n",
    "        \"\"\"\n",
    "        Subspace constrained version of PyImageSearch's LeNet implementation\n",
    "        \"\"\"\n",
    "        super().__init__()\n",
    "        \n",
    "        self.theta = Parameter(torch.empty((intrinsic_dim, 1)))\n",
    "        self.theta.data.fill_(0)\n",
    "        \n",
    "        self.conv1 = SubspaceConv2d(self.theta, in_channels=1, out_channels=20, kernel_size=(5, 5), stride=1)\n",
    "        self.relu1 = nn.ReLU()\n",
    "        self.maxpool1 = nn.MaxPool2d(kernel_size=(2, 2), stride=(2, 2))\n",
    "        \n",
    "        self.conv2 = SubspaceConv2d(self.theta, in_channels=20, out_channels=50, kernel_size=(5, 5), stride=1)\n",
    "        self.relu2 = nn.ReLU()\n",
    "        self.maxpool2 = nn.MaxPool2d(kernel_size=(2, 2), stride=(2, 2))\n",
    "        \n",
    "        self.flatten1 = nn.Flatten()\n",
    "        \n",
    "        self.fc1 = SubspaceLinear(self.theta, in_features=800, out_features=500)\n",
    "        self.relu3 = nn.ReLU()\n",
    "        \n",
    "        self.fc2 = SubspaceLinear(self.theta, in_features=500, out_features=10)\n",
    "        self.logsoftmax = nn.LogSoftmax(dim=1)\n",
    "        \n",
    "        \n",
    "    def forward(self, x):\n",
    "        x = self.conv1(x)\n",
    "        x = self.relu1(x)\n",
    "        x = self.maxpool1(x)\n",
    "        \n",
    "        x = self.conv2(x)\n",
    "        x = self.relu2(x)\n",
    "        x = self.maxpool2(x)\n",
    "        \n",
    "        x = self.flatten1(x)\n",
    "        x = self.fc1(x)\n",
    "        x = self.relu3(x)\n",
    "        x = self.fc2(x)\n",
    "        x = self.logsoftmax(x)\n",
    "        \n",
    "        return x"
   ]
  },
  {
   "cell_type": "markdown",
   "id": "0de2bbbf-494d-4a3b-bff3-9bd8537cc23a",
   "metadata": {
    "tags": []
   },
   "source": [
    "## Training"
   ]
  },
  {
   "cell_type": "code",
   "execution_count": 10,
   "id": "08e4235a-2e6c-43c4-aba6-80b6748ed258",
   "metadata": {},
   "outputs": [],
   "source": [
    "net = SubspaceConstrainedLeNet()\n",
    "opt = torch.optim.Adam(net.parameters(), lr=1e-2)\n",
    "num_epochs = 5"
   ]
  },
  {
   "cell_type": "code",
   "execution_count": 11,
   "id": "749fa43d-d87c-4dee-bdac-17804aa826ec",
   "metadata": {},
   "outputs": [],
   "source": [
    "loss_history = []\n",
    "acc_history = []"
   ]
  },
  {
   "cell_type": "code",
   "execution_count": 12,
   "id": "2852528f-94eb-42f8-b0d8-149325638b9b",
   "metadata": {},
   "outputs": [
    {
     "name": "stdout",
     "output_type": "stream",
     "text": [
      "2.3108291625976562\n",
      "2.2809832096099854\n",
      "2.279046058654785\n",
      "2.269514799118042\n",
      "2.2809548377990723\n",
      "2.2762463092803955\n",
      "2.261420488357544\n",
      "2.255058765411377\n",
      "2.246279716491699\n",
      "2.179980516433716\n",
      "2.120734930038452\n",
      "1.877232551574707\n",
      "1.5798449516296387\n",
      "1.2773282527923584\n",
      "1.0793684720993042\n",
      "1.2323675155639648\n",
      "1.1547588109970093\n",
      "0.9760134816169739\n",
      "1.0293822288513184\n",
      "0.9469051957130432\n",
      "0.9689795970916748\n",
      "0.9759196639060974\n",
      "1.149322271347046\n",
      "1.015008807182312\n",
      "0.8724449276924133\n",
      "0.8221571445465088\n",
      "0.8196656703948975\n",
      "0.9515354633331299\n",
      "0.9104640483856201\n",
      "0.9277781844139099\n"
     ]
    }
   ],
   "source": [
    "# Train\n",
    "net.train()\n",
    "\n",
    "for _ in range(num_epochs):\n",
    "    for batch_id, (features, target) in enumerate(train_loader):\n",
    "        # forward pass, calculate loss and backprop!\n",
    "        # features.shape: 100, 1, 28, 28\n",
    "        opt.zero_grad()\n",
    "        preds = net(features)\n",
    "        loss = F.nll_loss(preds, target)\n",
    "        loss.backward()\n",
    "        loss_history.append(loss.item())\n",
    "        opt.step()\n",
    "\n",
    "        if batch_id % 100 == 0:\n",
    "            print(loss.item())"
   ]
  },
  {
   "cell_type": "code",
   "execution_count": 13,
   "id": "852cc5e9-cb0b-450d-9f1a-68a0a1741fbf",
   "metadata": {},
   "outputs": [
    {
     "name": "stdout",
     "output_type": "stream",
     "text": [
      "\n",
      "Test set: Average loss: 0.8512, Accuracy: 7236/10000 (72%)\n",
      "\n"
     ]
    }
   ],
   "source": [
    "# Test\n",
    "net.eval()\n",
    "\n",
    "test_loss = 0\n",
    "correct = 0\n",
    "\n",
    "for features, target in test_loader:\n",
    "    output = net(features)\n",
    "    test_loss += F.nll_loss(output, target).item()\n",
    "    pred = torch.argmax(output, dim=-1) # get the index of the max log-probability\n",
    "    correct += pred.eq(target).cpu().sum()\n",
    "\n",
    "test_loss = test_loss\n",
    "test_loss /= len(test_loader) # loss function already averages over batch size\n",
    "accuracy = 100. * correct / len(test_loader.dataset)\n",
    "acc_history.append(accuracy)\n",
    "print('\\nTest set: Average loss: {:.4f}, Accuracy: {}/{} ({:.0f}%)\\n'.format(\n",
    "    test_loss, correct, len(test_loader.dataset),\n",
    "    accuracy))"
   ]
  },
  {
   "cell_type": "markdown",
   "id": "74e07fd9-7595-4f1a-a1d7-08b65e588ebb",
   "metadata": {},
   "source": [
    "Looks set to run in script."
   ]
  }
 ],
 "metadata": {
  "kernelspec": {
   "display_name": "Python [conda env:gan]",
   "language": "python",
   "name": "conda-env-gan-py"
  },
  "language_info": {
   "codemirror_mode": {
    "name": "ipython",
    "version": 3
   },
   "file_extension": ".py",
   "mimetype": "text/x-python",
   "name": "python",
   "nbconvert_exporter": "python",
   "pygments_lexer": "ipython3",
   "version": "3.9.9"
  }
 },
 "nbformat": 4,
 "nbformat_minor": 5
}
