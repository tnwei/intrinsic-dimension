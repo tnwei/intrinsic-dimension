{
 "cells": [
  {
   "cell_type": "markdown",
   "id": "61a12d68-0172-44f2-ad87-8f206fc15572",
   "metadata": {},
   "source": [
    "# Debugging"
   ]
  },
  {
   "cell_type": "code",
   "execution_count": 1,
   "id": "aa88be4c-df21-406d-bd8e-7df39a245ab7",
   "metadata": {},
   "outputs": [],
   "source": [
    "import torch\n",
    "import torch.nn as nn\n",
    "from torch.utils.data import DataLoader\n",
    "import math\n",
    "import torchvision\n",
    "import torch.nn.functional as F\n",
    "import numpy as np\n",
    "from torch.nn.parameter import Parameter"
   ]
  },
  {
   "cell_type": "code",
   "execution_count": 2,
   "id": "371837f7-472b-41f6-810a-271c03fa4757",
   "metadata": {},
   "outputs": [],
   "source": [
    "import matplotlib.pyplot as plt\n",
    "%matplotlib inline"
   ]
  },
  {
   "cell_type": "code",
   "execution_count": 3,
   "id": "22e3122c-6f25-4e6d-80fe-33926e2830e5",
   "metadata": {},
   "outputs": [],
   "source": [
    "class SubspaceLinear(nn.Module):\n",
    "    def __init__(\n",
    "        self,\n",
    "        in_features, out_features, \n",
    "        subspace_features, # this is new!\n",
    "        bias: bool = True, # the rest is by the numbers\n",
    "        device = None,\n",
    "        dtype = None\n",
    "    ):\n",
    "        factory_kwargs = {\"device\": device, \"dtype\": dtype}\n",
    "\n",
    "        super().__init__() \n",
    "        \n",
    "        # Mirror nn.Linear init\n",
    "        self.in_features = in_features\n",
    "        self.out_features = out_features\n",
    "        self.subspace_features = subspace_features\n",
    "        \n",
    "        # Not a Parameter!\n",
    "        self.theta = torch.empty((out_features, in_features), **factory_kwargs)\n",
    "        \n",
    "        if bias:\n",
    "            self.bias = Parameter(torch.empty(out_features, **factory_kwargs))\n",
    "        else:\n",
    "            self.register_parameter('bias', None)\n",
    "\n",
    "        nn.init.kaiming_uniform_(self.theta, a=math.sqrt(5))\n",
    "\n",
    "        # After init, save fixed weights\n",
    "        self.theta_zero = self.theta.detach().clone()\n",
    "        \n",
    "        # Generate projection matrix\n",
    "        self.proj_mat = torch.empty((out_features, subspace_features), **factory_kwargs)\n",
    "        # TODO: Init this properly\n",
    "        \n",
    "        # Init theta prime, which will be actually used\n",
    "        self.theta_prime = Parameter(torch.empty((subspace_features, in_features), **factory_kwargs))\n",
    "    \n",
    "        # According to https://pytorch.org/docs/stable/generated/torch.nn.functional.linear.html\n",
    "        # Weight has shape (out_features, in_features)\n",
    "        # Therefore P x theta_prime is:\n",
    "        # (out_features, subspace_features) X (subspace_features, in_features)\n",
    "        \n",
    "        self.reset_parameters()\n",
    "        \n",
    "    def reset_parameters(self) -> None:\n",
    "        # Setting a=sqrt(5) in kaiming_uniform is the same as initializing with\n",
    "        # uniform(-1/sqrt(in_features), 1/sqrt(in_features)). For details, see\n",
    "        # https://github.com/pytorch/pytorch/issues/57109\n",
    "        \n",
    "        nn.init.kaiming_uniform_(self.theta_prime, a=math.sqrt(5))\n",
    "        \n",
    "        if self.bias is not None:\n",
    "            fan_in, _ = nn.init._calculate_fan_in_and_fan_out(self.theta)\n",
    "            bound = 1 / math.sqrt(fan_in) if fan_in > 0 else 0\n",
    "            nn.init.uniform_(self.bias, -bound, bound)\n",
    "        \n",
    "    def forward(self, x):\n",
    "        # in nn.Linear:\n",
    "        # return F.linear(x, self.weight, self.bias)\n",
    "        theta = self.theta_zero + torch.mm(self.proj_mat, self.theta_prime)\n",
    "        return F.linear(x, theta, self.bias)\n",
    "    \n",
    "    def extra_repr(self) -> str:\n",
    "        return 'in_features={}, out_features={}, subspace_features={}, bias={}'.format(\n",
    "            self.in_features, self.out_features, self.subspace_features, self.bias is not None\n",
    "        )"
   ]
  },
  {
   "cell_type": "markdown",
   "id": "f0b74667-1da4-4766-bc9e-a3d15efb4555",
   "metadata": {
    "tags": []
   },
   "source": [
    "## Synthetic data"
   ]
  },
  {
   "cell_type": "code",
   "execution_count": 17,
   "id": "f690371b-292f-4f14-b4aa-8640a32a81fd",
   "metadata": {},
   "outputs": [],
   "source": [
    "sample_x = np.random.uniform(size=(1000, 1))\n",
    "sample_y = sample_x ** 2"
   ]
  },
  {
   "cell_type": "code",
   "execution_count": 18,
   "id": "90d8470e-1cfa-4718-a689-5c0ed70efbb5",
   "metadata": {},
   "outputs": [],
   "source": [
    "sample_x = torch.Tensor(sample_x)\n",
    "sample_y = torch.Tensor(sample_y)"
   ]
  },
  {
   "cell_type": "markdown",
   "id": "f510d763-6a54-4a36-9abf-90cc170ac77b",
   "metadata": {},
   "source": [
    "## Explore differences with linear"
   ]
  },
  {
   "cell_type": "code",
   "execution_count": 19,
   "id": "57079d4e-9189-4420-97de-7e9540721974",
   "metadata": {},
   "outputs": [],
   "source": [
    "linear = nn.Linear(1, 1)\n",
    "sslinear = SubspaceLinear(1, 1, subspace_features=1)"
   ]
  },
  {
   "cell_type": "code",
   "execution_count": 21,
   "id": "1c470312-64af-4b17-a074-e033631298c5",
   "metadata": {},
   "outputs": [],
   "source": [
    "lin_out = linear(sample_x)"
   ]
  },
  {
   "cell_type": "code",
   "execution_count": 23,
   "id": "42b0ef99-6638-485a-aa2b-aaadcf560edf",
   "metadata": {},
   "outputs": [],
   "source": [
    "sslin_out = sslinear(sample_x)"
   ]
  },
  {
   "cell_type": "code",
   "execution_count": 26,
   "id": "41809383-3eac-4829-af99-244296f21863",
   "metadata": {},
   "outputs": [
    {
     "data": {
      "text/plain": [
       "[<matplotlib.lines.Line2D at 0x7fa392939550>]"
      ]
     },
     "execution_count": 26,
     "metadata": {},
     "output_type": "execute_result"
    },
    {
     "data": {
      "image/png": "[encoded data removed]",
      "text/plain": [
       "<Figure size 432x288 with 1 Axes>"
      ]
     },
     "metadata": {
      "needs_background": "light"
     },
     "output_type": "display_data"
    }
   ],
   "source": [
    "plt.plot(lin_out.detach().numpy())\n",
    "plt.plot(sslin_out.detach().numpy())"
   ]
  },
  {
   "cell_type": "markdown",
   "id": "497c9115-b526-4d87-8507-2dda6fa09d03",
   "metadata": {},
   "source": [
    "Poor init! Gotta fix it."
   ]
  },
  {
   "cell_type": "code",
   "execution_count": 27,
   "id": "c7414d88-60b3-484d-a5f9-f1a823d8646e",
   "metadata": {},
   "outputs": [
    {
     "data": {
      "text/plain": [
       "Parameter containing:\n",
       "tensor([[0.9847]], requires_grad=True)"
      ]
     },
     "execution_count": 27,
     "metadata": {},
     "output_type": "execute_result"
    }
   ],
   "source": [
    "linear.weight"
   ]
  },
  {
   "cell_type": "code",
   "execution_count": 28,
   "id": "0651cd8a-b077-4b82-b9f4-aaa0fd63a873",
   "metadata": {},
   "outputs": [
    {
     "data": {
      "text/plain": [
       "Parameter containing:\n",
       "tensor([0.8897], requires_grad=True)"
      ]
     },
     "execution_count": 28,
     "metadata": {},
     "output_type": "execute_result"
    }
   ],
   "source": [
    "linear.bias"
   ]
  },
  {
   "cell_type": "code",
   "execution_count": 29,
   "id": "f2f14e9d-9dd5-47c3-a3ac-2c2ec87748c8",
   "metadata": {},
   "outputs": [
    {
     "data": {
      "text/plain": [
       "tensor([[0.2560]])"
      ]
     },
     "execution_count": 29,
     "metadata": {},
     "output_type": "execute_result"
    }
   ],
   "source": [
    "sslinear.theta"
   ]
  },
  {
   "cell_type": "code",
   "execution_count": 30,
   "id": "88abb875-97db-4f7f-8583-dc009cf04bd1",
   "metadata": {},
   "outputs": [
    {
     "data": {
      "text/plain": [
       "Parameter containing:\n",
       "tensor([0.2721], requires_grad=True)"
      ]
     },
     "execution_count": 30,
     "metadata": {},
     "output_type": "execute_result"
    }
   ],
   "source": [
    "sslinear.bias"
   ]
  },
  {
   "cell_type": "code",
   "execution_count": 31,
   "id": "52bbe6da-c9aa-4fea-a20d-99675ce2eb5b",
   "metadata": {},
   "outputs": [
    {
     "data": {
      "text/plain": [
       "Parameter containing:\n",
       "tensor([[0.8092]], requires_grad=True)"
      ]
     },
     "execution_count": 31,
     "metadata": {},
     "output_type": "execute_result"
    }
   ],
   "source": [
    "sslinear.theta_prime"
   ]
  },
  {
   "cell_type": "code",
   "execution_count": 32,
   "id": "d0a012c7-788e-4dbe-b0e7-16e3bcdae829",
   "metadata": {},
   "outputs": [
    {
     "data": {
      "text/plain": [
       "tensor([[-931.4570]])"
      ]
     },
     "execution_count": 32,
     "metadata": {},
     "output_type": "execute_result"
    }
   ],
   "source": [
    "sslinear.proj_mat"
   ]
  },
  {
   "cell_type": "markdown",
   "id": "f4a5aa7c-2fbd-4b02-be64-86199140d07b",
   "metadata": {},
   "source": [
    "The culprit is caught red-handed! I forgot to init the projection matrix."
   ]
  }
 ],
 "metadata": {
  "kernelspec": {
   "display_name": "Python [conda env:drift]",
   "language": "python",
   "name": "conda-env-drift-py"
  },
  "language_info": {
   "codemirror_mode": {
    "name": "ipython",
    "version": 3
   },
   "file_extension": ".py",
   "mimetype": "text/x-python",
   "name": "python",
   "nbconvert_exporter": "python",
   "pygments_lexer": "ipython3",
   "version": "3.9.7"
  }
 },
 "nbformat": 4,
 "nbformat_minor": 5
}
