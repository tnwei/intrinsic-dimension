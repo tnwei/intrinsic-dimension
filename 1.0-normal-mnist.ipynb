{
 "cells": [
  {
   "cell_type": "markdown",
   "id": "61a12d68-0172-44f2-ad87-8f206fc15572",
   "metadata": {},
   "source": [
    "# Regular MNIST"
   ]
  },
  {
   "cell_type": "markdown",
   "id": "dba10864-6102-4909-b819-959daedad1ad",
   "metadata": {},
   "source": [
    "Cobbled together a regular MNIST training loop, referring to:\n",
    "+ https://gist.github.com/kdubovikov/eb2a4c3ecadd5295f68c126542e59f0a\n",
    "+ https://github.com/uber-research/intrinsic-dimension/blob/master/intrinsic_dim/model_builders.py#L81\n",
    "+ https://arxiv.org/pdf/1804.08838.pdf"
   ]
  },
  {
   "cell_type": "code",
   "execution_count": 63,
   "id": "6104ed0a-4462-42ef-b02f-7c4249e4377d",
   "metadata": {},
   "outputs": [],
   "source": [
    "import torch\n",
    "import torch.nn as nn\n",
    "import torch.nn.functional as F\n",
    "import torchvision\n",
    "from torch.utils.data import DataLoader"
   ]
  },
  {
   "cell_type": "markdown",
   "id": "347ad6d4-04a6-40a4-aaf9-9bd6ea747256",
   "metadata": {},
   "source": [
    "## Data"
   ]
  },
  {
   "cell_type": "code",
   "execution_count": 42,
   "id": "aa0fa5c3-589b-4e49-8ff1-3af06c74ab9b",
   "metadata": {},
   "outputs": [],
   "source": [
    "dataset_transform = torchvision.transforms.Compose([\n",
    "    torchvision.transforms.ToTensor(), \n",
    "    torchvision.transforms.Lambda(lambda x: torch.flatten(x))\n",
    "])"
   ]
  },
  {
   "cell_type": "code",
   "execution_count": 43,
   "id": "bffac591-732e-47f3-862d-37823ab93294",
   "metadata": {},
   "outputs": [],
   "source": [
    "train = torchvision.datasets.MNIST(\n",
    "    root=\"~/.torchdata/\", download=False, \n",
    "    # natively stored as PIL images\n",
    "    transform=dataset_transform\n",
    ")"
   ]
  },
  {
   "cell_type": "code",
   "execution_count": 45,
   "id": "de3256fe-f974-4613-9188-2957b501443f",
   "metadata": {},
   "outputs": [],
   "source": [
    "test = torchvision.datasets.MNIST(\n",
    "    root=\"~/.torchdata/\", download=False, \n",
    "    train=False,\n",
    "    transform=dataset_transform\n",
    ")"
   ]
  },
  {
   "cell_type": "code",
   "execution_count": 46,
   "id": "309a3d11-8b0a-4c59-82f1-4b439623e6af",
   "metadata": {},
   "outputs": [
    {
     "data": {
      "text/plain": [
       "Dataset MNIST\n",
       "    Number of datapoints: 60000\n",
       "    Root location: /home/tnwei/.torchdata/\n",
       "    Split: Train\n",
       "    StandardTransform\n",
       "Transform: Compose(\n",
       "               ToTensor()\n",
       "               Lambda()\n",
       "           )"
      ]
     },
     "execution_count": 46,
     "metadata": {},
     "output_type": "execute_result"
    }
   ],
   "source": [
    "train"
   ]
  },
  {
   "cell_type": "code",
   "execution_count": 47,
   "id": "04409cba-e2e9-4180-96cc-478462059e25",
   "metadata": {},
   "outputs": [
    {
     "data": {
      "text/plain": [
       "Dataset MNIST\n",
       "    Number of datapoints: 10000\n",
       "    Root location: /home/tnwei/.torchdata/\n",
       "    Split: Test\n",
       "    StandardTransform\n",
       "Transform: Compose(\n",
       "               ToTensor()\n",
       "               Lambda()\n",
       "           )"
      ]
     },
     "execution_count": 47,
     "metadata": {},
     "output_type": "execute_result"
    }
   ],
   "source": [
    "test"
   ]
  },
  {
   "cell_type": "code",
   "execution_count": 48,
   "id": "64d4dad6-9b8a-4012-8402-eb06e00fcd07",
   "metadata": {},
   "outputs": [
    {
     "data": {
      "text/plain": [
       "torch.Size([60000, 28, 28])"
      ]
     },
     "execution_count": 48,
     "metadata": {},
     "output_type": "execute_result"
    }
   ],
   "source": [
    "train.data.shape"
   ]
  },
  {
   "cell_type": "code",
   "execution_count": 49,
   "id": "af8de4cf-bd13-4aa2-bec5-a0d52c559e8f",
   "metadata": {},
   "outputs": [],
   "source": [
    "train_loader = DataLoader(train, batch_size=100, shuffle=True)\n",
    "# Returns (torch.Size([100, 784]), torch.Size([100]))"
   ]
  },
  {
   "cell_type": "code",
   "execution_count": 50,
   "id": "5431e35c-cc76-4277-8dd6-59ff28c1f302",
   "metadata": {},
   "outputs": [],
   "source": [
    "test_loader = DataLoader(test, batch_size=500, shuffle=False)"
   ]
  },
  {
   "cell_type": "code",
   "execution_count": 59,
   "id": "b75e8205-4d1a-4692-a7cd-29ed28fab1d0",
   "metadata": {},
   "outputs": [
    {
     "data": {
      "text/plain": [
       "(torch.Size([100, 784]), torch.Size([100]))"
      ]
     },
     "execution_count": 59,
     "metadata": {},
     "output_type": "execute_result"
    }
   ],
   "source": [
    "a[0].shape, a[1].shape"
   ]
  },
  {
   "cell_type": "markdown",
   "id": "a848971a-7a45-47a7-9139-3a84489238c3",
   "metadata": {},
   "source": [
    "## Net definition"
   ]
  },
  {
   "cell_type": "code",
   "execution_count": 88,
   "id": "2f3bac57-2176-45c8-b83e-9b8c434cc483",
   "metadata": {},
   "outputs": [],
   "source": [
    "class BasicMNIST(nn.Module):\n",
    "    def __init__(self):\n",
    "        \"\"\"\n",
    "        Paper uses 784-200-200-10\n",
    "        ref: https://arxiv.org/pdf/1804.08838.pdf\n",
    "        \n",
    "        Ref in github:\n",
    "        https://github.com/uber-research/intrinsic-dimension/blob/9754ebe1954e82973c7afe280d2c59850f281dca/intrinsic_dim/model_builders.py#L81\n",
    "        \"\"\"\n",
    "        super().__init__()\n",
    "        self.hidden1 = nn.Linear(784, 200)\n",
    "        self.hidden2 = nn.Linear(200, 10)\n",
    "        \n",
    "    def forward(self, x):\n",
    "        x = self.hidden1(x)\n",
    "        x = F.relu(x)\n",
    "        x = self.hidden2(x)\n",
    "        x = F.relu(x)\n",
    "        x = F.log_softmax(x, dim=-1)  # (batch_size, dims)\n",
    "        return x"
   ]
  },
  {
   "cell_type": "markdown",
   "id": "0de2bbbf-494d-4a3b-bff3-9bd8537cc23a",
   "metadata": {
    "tags": []
   },
   "source": [
    "## Training"
   ]
  },
  {
   "cell_type": "code",
   "execution_count": 100,
   "id": "08e4235a-2e6c-43c4-aba6-80b6748ed258",
   "metadata": {},
   "outputs": [],
   "source": [
    "net = BasicMNIST()\n",
    "opt = torch.optim.Adam(net.parameters(), lr=1e-2)\n",
    "num_epochs = 5"
   ]
  },
  {
   "cell_type": "code",
   "execution_count": 101,
   "id": "749fa43d-d87c-4dee-bdac-17804aa826ec",
   "metadata": {},
   "outputs": [],
   "source": [
    "loss_history = []\n",
    "acc_history = []"
   ]
  },
  {
   "cell_type": "code",
   "execution_count": 103,
   "id": "2852528f-94eb-42f8-b0d8-149325638b9b",
   "metadata": {},
   "outputs": [
    {
     "name": "stdout",
     "output_type": "stream",
     "text": [
      "2.3020222187042236\n",
      "0.6678874492645264\n",
      "0.46086710691452026\n",
      "0.6339600086212158\n",
      "0.7151810526847839\n",
      "0.7028355598449707\n",
      "0.4760339856147766\n",
      "0.5044549107551575\n",
      "0.6090096235275269\n",
      "0.5877191424369812\n",
      "0.7133115530014038\n",
      "0.48733580112457275\n",
      "0.6384894251823425\n",
      "0.35630112886428833\n",
      "0.5135530233383179\n",
      "0.49185654520988464\n",
      "0.5114858746528625\n",
      "0.5866591930389404\n",
      "0.6023568511009216\n",
      "0.5403339266777039\n",
      "0.5768228769302368\n",
      "0.6577960252761841\n",
      "0.5027185678482056\n",
      "0.4349723160266876\n",
      "0.5165771245956421\n",
      "0.6568780541419983\n",
      "0.6702275276184082\n",
      "0.6917394399642944\n",
      "0.5791258811950684\n",
      "0.4683903753757477\n"
     ]
    }
   ],
   "source": [
    "# Train\n",
    "net.train()\n",
    "\n",
    "for _ in range(num_epochs):\n",
    "    for batch_id, (features, target) in enumerate(train_loader):\n",
    "        # forward pass, calculate loss and backprop!\n",
    "        opt.zero_grad()\n",
    "        preds = net(features)\n",
    "        loss = F.nll_loss(preds, target)\n",
    "        loss.backward()\n",
    "        loss_history.append(loss.item())\n",
    "        opt.step()\n",
    "\n",
    "        if batch_id % 100 == 0:\n",
    "            print(loss.item())"
   ]
  },
  {
   "cell_type": "code",
   "execution_count": 104,
   "id": "852cc5e9-cb0b-450d-9f1a-68a0a1741fbf",
   "metadata": {},
   "outputs": [
    {
     "name": "stdout",
     "output_type": "stream",
     "text": [
      "\n",
      "Test set: Average loss: 0.6160, Accuracy: 8555/10000 (86%)\n",
      "\n"
     ]
    }
   ],
   "source": [
    "# Test\n",
    "net.eval()\n",
    "\n",
    "test_loss = 0\n",
    "correct = 0\n",
    "\n",
    "for features, target in test_loader:\n",
    "    output = net(features)\n",
    "    test_loss += F.nll_loss(output, target).item()\n",
    "    pred = torch.argmax(output, dim=-1) # get the index of the max log-probability\n",
    "    correct += pred.eq(target).cpu().sum()\n",
    "\n",
    "test_loss = test_loss\n",
    "test_loss /= len(test_loader) # loss function already averages over batch size\n",
    "accuracy = 100. * correct / len(test_loader.dataset)\n",
    "acc_history.append(accuracy)\n",
    "print('\\nTest set: Average loss: {:.4f}, Accuracy: {}/{} ({:.0f}%)\\n'.format(\n",
    "    test_loss, correct, len(test_loader.dataset),\n",
    "    accuracy))"
   ]
  }
 ],
 "metadata": {
  "kernelspec": {
   "display_name": "Python [conda env:gan]",
   "language": "python",
   "name": "conda-env-gan-py"
  },
  "language_info": {
   "codemirror_mode": {
    "name": "ipython",
    "version": 3
   },
   "file_extension": ".py",
   "mimetype": "text/x-python",
   "name": "python",
   "nbconvert_exporter": "python",
   "pygments_lexer": "ipython3",
   "version": "3.9.9"
  }
 },
 "nbformat": 4,
 "nbformat_minor": 5
}
